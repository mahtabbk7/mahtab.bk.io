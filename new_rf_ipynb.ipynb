{
  "nbformat": 4,
  "nbformat_minor": 0,
  "metadata": {
    "colab": {
      "provenance": [],
      "authorship_tag": "ABX9TyOPXgSIe6lxFi9v5YlcnWAB",
      "include_colab_link": true
    },
    "kernelspec": {
      "name": "python3",
      "display_name": "Python 3"
    },
    "language_info": {
      "name": "python"
    }
  },
  "cells": [
    {
      "cell_type": "markdown",
      "metadata": {
        "id": "view-in-github",
        "colab_type": "text"
      },
      "source": [
        "<a href=\"https://colab.research.google.com/github/mahtabbk7/mahtab.bk.io/blob/main/new_rf_ipynb.ipynb\" target=\"_parent\"><img src=\"https://colab.research.google.com/assets/colab-badge.svg\" alt=\"Open In Colab\"/></a>"
      ]
    },
    {
      "cell_type": "markdown",
      "source": [
        "#  Import"
      ],
      "metadata": {
        "id": "TC49Cqd1OMgK"
      }
    },
    {
      "cell_type": "code",
      "execution_count": null,
      "metadata": {
        "id": "6taq65tSNtBO"
      },
      "outputs": [],
      "source": [
        "import numpy as np\n",
        "import pandas as pd"
      ]
    },
    {
      "cell_type": "markdown",
      "source": [
        "# Preprocessing\n"
      ],
      "metadata": {
        "id": "gWpkKRuWOHj2"
      }
    },
    {
      "cell_type": "code",
      "source": [
        "dataset = pd.read_csv('data.csv')\n",
        "dataset = dataset.drop(['Sl. No', 'Patient File No.'], axis=1)"
      ],
      "metadata": {
        "id": "bec71y3oPCnp"
      },
      "execution_count": 9,
      "outputs": []
    },
    {
      "cell_type": "code",
      "source": [
        "from sklearn.impute import SimpleImputer\n",
        "def preprocess_features(X):\n",
        "    X_processed = X.copy()\n",
        "\n",
        "\n",
        "    categorical_columns = ['Blood Group', 'Cycle(R/I)']\n",
        "    for col in categorical_columns:\n",
        "        if col in X_processed.columns:\n",
        "\n",
        "            imputer = SimpleImputer(strategy='most_frequent')\n",
        "            X_processed[col] = imputer.fit_transform(X_processed[[col]]).ravel()\n",
        "\n",
        "\n",
        "            le = LabelEncoder()\n",
        "            X_processed[col] = le.fit_transform(X_processed[col])\n",
        "\n",
        "\n",
        "    binary_columns = ['Weight gain(Y/N)', 'Pregnant(Y/N)', 'hair growth(Y/N)',\n",
        "                     'Skin darkening (Y/N)', 'Hair loss(Y/N)', 'Pimples(Y/N)',\n",
        "                     'Fast food (Y/N)', 'Reg.Exercise(Y/N)']\n",
        "\n",
        "    for col in binary_columns:\n",
        "        if col in X_processed.columns:\n",
        "\n",
        "            imputer = SimpleImputer(strategy='most_frequent')\n",
        "            X_processed[col] = imputer.fit_transform(X_processed[[col]]).ravel()\n",
        "\n",
        "    numerical_columns = [col for col in X_processed.columns\n",
        "                        if col not in categorical_columns + binary_columns]\n",
        "\n",
        "    for col in numerical_columns:\n",
        "        imputer = SimpleImputer(strategy='mean')\n",
        "        X_processed[col] = imputer.fit_transform(X_processed[[col]]).ravel()\n",
        "    return X_processed"
      ],
      "metadata": {
        "id": "ZjJ6GTCfOZLn"
      },
      "execution_count": 10,
      "outputs": []
    },
    {
      "cell_type": "code",
      "source": [
        "X = dataset.drop('PCOS (Y/N)', axis=1)\n",
        "y = dataset['PCOS (Y/N)']"
      ],
      "metadata": {
        "id": "ieOGlBg8O6yf"
      },
      "execution_count": 11,
      "outputs": []
    },
    {
      "cell_type": "code",
      "source": [
        "from sklearn.model_selection import train_test_split\n",
        "X_train, X_test, y_train, y_test = train_test_split(X, y, test_size=0.1, random_state=0)"
      ],
      "metadata": {
        "id": "uIHw8ckSPGeo"
      },
      "execution_count": 18,
      "outputs": []
    },
    {
      "cell_type": "code",
      "source": [
        "from sklearn.preprocessing import StandardScaler, LabelEncoder\n",
        "X_train_processed = preprocess_features(X_train)\n",
        "X_test_processed = preprocess_features(X_test)"
      ],
      "metadata": {
        "id": "pLCryY_LPM9g"
      },
      "execution_count": 19,
      "outputs": []
    },
    {
      "cell_type": "code",
      "source": [
        "scaler = StandardScaler()\n",
        "X_train_scaled = scaler.fit_transform(X_train_processed)\n",
        "X_test_scaled = scaler.transform(X_test_processed)"
      ],
      "metadata": {
        "id": "4NNL05TFPYRV"
      },
      "execution_count": 20,
      "outputs": []
    },
    {
      "cell_type": "code",
      "source": [
        "rf_classifier = RandomForestClassifier(n_estimators=100, random_state=42, n_jobs=-1)\n",
        "rf_classifier.fit(X_train_scaled, y_train)\n",
        "\n",
        "y_test_pred = rf_classifier.predict(X_test_scaled)\n",
        "\n",
        "acc = accuracy_score(y_test, y_test_pred)\n",
        "\n",
        "print(f\"Test Accuracy: {acc:.4f}\")\n",
        "\n",
        "\n",
        "\n",
        "cm = confusion_matrix(y_test, y_test_pred)\n",
        "print(f\"\\nConfusion Matrix:\")\n",
        "print(cm)\n",
        "\n"
      ],
      "metadata": {
        "colab": {
          "base_uri": "https://localhost:8080/"
        },
        "id": "JpxusRQTwOkS",
        "outputId": "cd99e97e-d5c4-411a-9d03-053dc869fae6"
      },
      "execution_count": 23,
      "outputs": [
        {
          "output_type": "stream",
          "name": "stdout",
          "text": [
            "Test Accuracy: 0.9091\n",
            "\n",
            "Confusion Matrix:\n",
            "[[34  2]\n",
            " [ 3 16]]\n"
          ]
        }
      ]
    }
  ]
}